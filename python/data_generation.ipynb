{
 "cells": [
  {
   "cell_type": "markdown",
   "id": "88416cf8",
   "metadata": {},
   "source": [
    "# Data Generation\n",
    "\n",
    "This nb to generate data of the BE 1"
   ]
  },
  {
   "cell_type": "code",
   "execution_count": 1,
   "id": "9565733a",
   "metadata": {},
   "outputs": [],
   "source": [
    "import pandas as pd\n",
    "import matplotlib.pyplot as plt\n",
    "import numpy as np\n",
    "from datetime import datetime, timedelta"
   ]
  },
  {
   "cell_type": "code",
   "execution_count": 2,
   "id": "b92e76ad",
   "metadata": {},
   "outputs": [],
   "source": [
    "SEED=1"
   ]
  },
  {
   "cell_type": "markdown",
   "id": "6a40c034",
   "metadata": {},
   "source": [
    "**Create df**"
   ]
  },
  {
   "cell_type": "code",
   "execution_count": 3,
   "id": "cce21395",
   "metadata": {},
   "outputs": [
    {
     "name": "stdout",
     "output_type": "stream",
     "text": [
      "Extended period, from: `2022-11-16 15:26:47.328633` until `2022-11-17 15:26:47.328633`\n",
      "Generated 1440 points\n"
     ]
    }
   ],
   "source": [
    "nb_days = 1\n",
    "\n",
    "end_time = datetime.today()\n",
    "# ex: '11/16/2022, 17:34:05'\n",
    "\n",
    "# 10 days before\n",
    "start_time = end_time - timedelta(days=nb_days)\n",
    "\n",
    "n_points = nb_days * 24 * 60 # minutes in `nb_days` days\n",
    "\n",
    "df_time = pd.date_range(start=start_time,\n",
    "                        end=end_time,\n",
    "                        periods=n_points)\n",
    "# ex:Series(['2021-03-25 14:22:24.824136', ...])\n",
    "\n",
    "df_time = df_time.strftime(\"%m/%d/%Y %H:%M:%S\")\n",
    "\n",
    "print(f\"Extended period, from: `{start_time}` until `{end_time}`\")\n",
    "print(f\"Generated {len(df_time)} points\")"
   ]
  },
  {
   "cell_type": "markdown",
   "id": "1d0157ff",
   "metadata": {},
   "source": [
    "**Into df**"
   ]
  },
  {
   "cell_type": "code",
   "execution_count": 4,
   "id": "9d1dd62c",
   "metadata": {},
   "outputs": [
    {
     "data": {
      "text/html": [
       "<div>\n",
       "<style scoped>\n",
       "    .dataframe tbody tr th:only-of-type {\n",
       "        vertical-align: middle;\n",
       "    }\n",
       "\n",
       "    .dataframe tbody tr th {\n",
       "        vertical-align: top;\n",
       "    }\n",
       "\n",
       "    .dataframe thead th {\n",
       "        text-align: right;\n",
       "    }\n",
       "</style>\n",
       "<table border=\"1\" class=\"dataframe\">\n",
       "  <thead>\n",
       "    <tr style=\"text-align: right;\">\n",
       "      <th></th>\n",
       "      <th>time</th>\n",
       "    </tr>\n",
       "  </thead>\n",
       "  <tbody>\n",
       "    <tr>\n",
       "      <th>0</th>\n",
       "      <td>11/16/2022 15:26:47</td>\n",
       "    </tr>\n",
       "    <tr>\n",
       "      <th>1</th>\n",
       "      <td>11/16/2022 15:27:47</td>\n",
       "    </tr>\n",
       "  </tbody>\n",
       "</table>\n",
       "</div>"
      ],
      "text/plain": [
       "                  time\n",
       "0  11/16/2022 15:26:47\n",
       "1  11/16/2022 15:27:47"
      ]
     },
     "execution_count": 4,
     "metadata": {},
     "output_type": "execute_result"
    }
   ],
   "source": [
    "df_time = pd.Series(df_time).to_frame(\"time\")\n",
    "df_time.head(2)"
   ]
  },
  {
   "cell_type": "code",
   "execution_count": 5,
   "id": "fdbfe6b1",
   "metadata": {},
   "outputs": [],
   "source": [
    "df_time[\"is_hole\"] = 0\n",
    "df_time.set_index(\"time\", inplace=True)"
   ]
  },
  {
   "cell_type": "markdown",
   "id": "04d8a6a9-2976-4eec-af48-a4ab9a93f1af",
   "metadata": {},
   "source": [
    "**Add a `orbit_id` col**\n",
    "\n",
    "One orbit = n_points / n_orbits"
   ]
  },
  {
   "cell_type": "code",
   "execution_count": 6,
   "id": "cc17f7c8-e252-4f07-8a64-cdfa9dbe00e3",
   "metadata": {},
   "outputs": [],
   "source": [
    "nb_orbits = 10\n",
    "\n",
    "orbits = [[k] * (round(len(df_time)/10)) for k in range(nb_orbits)]\n",
    "\n",
    "# flatten\n",
    "flat_orbit_list = [item for sublist in orbits for item in sublist]"
   ]
  },
  {
   "cell_type": "code",
   "execution_count": 7,
   "id": "c11bb61a-5e45-4fa2-a1eb-a77dbbf92017",
   "metadata": {},
   "outputs": [],
   "source": [
    "df_time['orbit_id'] = flat_orbit_list"
   ]
  },
  {
   "cell_type": "markdown",
   "id": "b23eecd9",
   "metadata": {},
   "source": [
    "**Sort**"
   ]
  },
  {
   "cell_type": "code",
   "execution_count": 8,
   "id": "621194cb",
   "metadata": {},
   "outputs": [],
   "source": [
    "df_time.sort_index(inplace=True)"
   ]
  },
  {
   "cell_type": "code",
   "execution_count": 9,
   "id": "c2747c62",
   "metadata": {},
   "outputs": [
    {
     "name": "stdout",
     "output_type": "stream",
     "text": [
      "Get data from `11/16/2022 15:26:47` to `11/17/2022 15:26:47`\n"
     ]
    }
   ],
   "source": [
    "print(f\"Get data from `{df_time.iloc[0].name}` to `{df_time.iloc[-1].name}`\")"
   ]
  },
  {
   "cell_type": "markdown",
   "id": "21cd4cb6",
   "metadata": {},
   "source": [
    "**Artificially create holes**\n",
    "\n",
    "Create `nb_holes`:\n",
    "* at random location (`hole_list`)\n",
    "* with random legth (`hole_duration`) -> get some holes with large duration\n",
    "\n",
    "Note: usage of a seed at the begenning of the script to get reproducible results."
   ]
  },
  {
   "cell_type": "code",
   "execution_count": 10,
   "id": "f9cfb00b",
   "metadata": {},
   "outputs": [],
   "source": [
    "# Generate k holes\n",
    "nb_holes = 5\n",
    "\n",
    "# Index of first points of the hole to create\n",
    "hole_list = np.random.choice(range(len(df_time)), nb_holes, replace=False)\n",
    "\n",
    "# duration of each holes (in nb of points)\n",
    "hole_duration = np.random.randint(low=10,\n",
    "                                  high=n_points * 0.10,  # 10% of the nb points\n",
    "                                  size=nb_holes)"
   ]
  },
  {
   "cell_type": "code",
   "execution_count": 11,
   "id": "5379edd0",
   "metadata": {},
   "outputs": [
    {
     "data": {
      "text/plain": [
       "array([1160,  515, 1076,   38, 1267])"
      ]
     },
     "execution_count": 11,
     "metadata": {},
     "output_type": "execute_result"
    }
   ],
   "source": [
    "hole_list"
   ]
  },
  {
   "cell_type": "code",
   "execution_count": 12,
   "id": "44cc1e64",
   "metadata": {},
   "outputs": [
    {
     "data": {
      "text/plain": [
       "array([ 73,  77,  10, 123, 133])"
      ]
     },
     "execution_count": 12,
     "metadata": {},
     "output_type": "execute_result"
    }
   ],
   "source": [
    "hole_duration"
   ]
  },
  {
   "cell_type": "markdown",
   "id": "16c65f81",
   "metadata": {},
   "source": [
    "Update col \"is hole\""
   ]
  },
  {
   "cell_type": "code",
   "execution_count": 13,
   "id": "0cc57c7f",
   "metadata": {},
   "outputs": [
    {
     "name": "stdout",
     "output_type": "stream",
     "text": [
      "Get 416 points tagged 'hole'.\n"
     ]
    },
    {
     "name": "stderr",
     "output_type": "stream",
     "text": [
      "/opt/rh/rh-python38/root/usr/local/lib64/python3.8/site-packages/pandas/core/indexing.py:719: FutureWarning: Slicing a positional slice with .loc is not supported, and will raise TypeError in a future version.  Use .loc with labels or .iloc with positions instead.\n",
      "  indexer = self._get_setitem_indexer(key)\n"
     ]
    }
   ],
   "source": [
    "df_with_holes = df_time.copy(deep=True)\n",
    "\n",
    "for i, hole_index in enumerate(hole_list):\n",
    "    \n",
    "    current_hole_duration = hole_duration[i]  # ex: 25, means 25 next pts shall be rm\n",
    "    \n",
    "    # Update col \"is_hole\"\n",
    "    df_with_holes.loc[hole_index:(hole_index + current_hole_duration), 'is_hole']=1\n",
    "    # ex: ['2021-03-25 14:31:39.412124843',...]\n",
    "\n",
    "print(f\"Get {len(df_with_holes[df_with_holes['is_hole'] != 0])} points tagged 'hole'.\")"
   ]
  },
  {
   "cell_type": "code",
   "execution_count": 14,
   "id": "f035cd1a",
   "metadata": {},
   "outputs": [
    {
     "data": {
      "image/png": "[encoded data removed]",
      "text/plain": [
       "<Figure size 432x288 with 1 Axes>"
      ]
     },
     "metadata": {
      "needs_background": "light"
     },
     "output_type": "display_data"
    }
   ],
   "source": [
    "plt.plot(df_with_holes, \"+\")\n",
    "plt.plot(df_with_holes[df_with_holes['is_hole'] != 0], 'r+')\n",
    "plt.title(\"Data (red are holes)\")\n",
    "plt.show()"
   ]
  },
  {
   "cell_type": "markdown",
   "id": "cd85a332",
   "metadata": {},
   "source": [
    "**Final format**"
   ]
  },
  {
   "cell_type": "code",
   "execution_count": 15,
   "id": "90d0e469",
   "metadata": {},
   "outputs": [
    {
     "data": {
      "text/plain": [
       "time\n",
       "11/16/2022 15:26:47    11/16/2022 15:26:47\n",
       "11/16/2022 15:27:47    11/16/2022 15:27:47\n",
       "11/16/2022 15:28:47    11/16/2022 15:28:47\n",
       "11/16/2022 15:29:47    11/16/2022 15:29:47\n",
       "11/16/2022 15:30:47    11/16/2022 15:30:47\n",
       "                              ...         \n",
       "11/17/2022 15:22:47    11/17/2022 15:22:47\n",
       "11/17/2022 15:23:47    11/17/2022 15:23:47\n",
       "11/17/2022 15:24:47    11/17/2022 15:24:47\n",
       "11/17/2022 15:25:47    11/17/2022 15:25:47\n",
       "11/17/2022 15:26:47    11/17/2022 15:26:47\n",
       "Name: time, Length: 1024, dtype: object"
      ]
     },
     "execution_count": 15,
     "metadata": {},
     "output_type": "execute_result"
    }
   ],
   "source": [
    "series_data = df_with_holes[df_with_holes['is_hole'] != 1].index.to_series().sort_values()\n",
    "\n",
    "series_data"
   ]
  },
  {
   "cell_type": "markdown",
   "id": "6cfab1fe",
   "metadata": {},
   "source": [
    "**Create data**"
   ]
  },
  {
   "cell_type": "code",
   "execution_count": 16,
   "id": "fd537c87",
   "metadata": {},
   "outputs": [
    {
     "name": "stderr",
     "output_type": "stream",
     "text": [
      "/opt/rh/rh-python38/root/usr/local/lib64/python3.8/site-packages/pandas/core/frame.py:4906: SettingWithCopyWarning: \n",
      "A value is trying to be set on a copy of a slice from a DataFrame\n",
      "\n",
      "See the caveats in the documentation: https://pandas.pydata.org/pandas-docs/stable/user_guide/indexing.html#returning-a-view-versus-a-copy\n",
      "  return super().drop(\n",
      "/tmp/ipykernel_135888/2073913602.py:8: SettingWithCopyWarning: \n",
      "A value is trying to be set on a copy of a slice from a DataFrame.\n",
      "Try using .loc[row_indexer,col_indexer] = value instead\n",
      "\n",
      "See the caveats in the documentation: https://pandas.pydata.org/pandas-docs/stable/user_guide/indexing.html#returning-a-view-versus-a-copy\n",
      "  df[\"tm_1\"] = np.random.randint(0, 10, size=len(df))\n",
      "/tmp/ipykernel_135888/2073913602.py:9: SettingWithCopyWarning: \n",
      "A value is trying to be set on a copy of a slice from a DataFrame.\n",
      "Try using .loc[row_indexer,col_indexer] = value instead\n",
      "\n",
      "See the caveats in the documentation: https://pandas.pydata.org/pandas-docs/stable/user_guide/indexing.html#returning-a-view-versus-a-copy\n",
      "  df[\"tm_2\"] = np.random.randint(0, 10, size=len(df))\n"
     ]
    },
    {
     "data": {
      "text/html": [
       "<div>\n",
       "<style scoped>\n",
       "    .dataframe tbody tr th:only-of-type {\n",
       "        vertical-align: middle;\n",
       "    }\n",
       "\n",
       "    .dataframe tbody tr th {\n",
       "        vertical-align: top;\n",
       "    }\n",
       "\n",
       "    .dataframe thead th {\n",
       "        text-align: right;\n",
       "    }\n",
       "</style>\n",
       "<table border=\"1\" class=\"dataframe\">\n",
       "  <thead>\n",
       "    <tr style=\"text-align: right;\">\n",
       "      <th></th>\n",
       "      <th>orbit_id</th>\n",
       "      <th>tm_1</th>\n",
       "      <th>tm_2</th>\n",
       "    </tr>\n",
       "    <tr>\n",
       "      <th>time</th>\n",
       "      <th></th>\n",
       "      <th></th>\n",
       "      <th></th>\n",
       "    </tr>\n",
       "  </thead>\n",
       "  <tbody>\n",
       "    <tr>\n",
       "      <th>11/16/2022 15:26:47</th>\n",
       "      <td>0</td>\n",
       "      <td>0</td>\n",
       "      <td>1</td>\n",
       "    </tr>\n",
       "    <tr>\n",
       "      <th>11/16/2022 15:27:47</th>\n",
       "      <td>0</td>\n",
       "      <td>1</td>\n",
       "      <td>5</td>\n",
       "    </tr>\n",
       "  </tbody>\n",
       "</table>\n",
       "</div>"
      ],
      "text/plain": [
       "                     orbit_id  tm_1  tm_2\n",
       "time                                     \n",
       "11/16/2022 15:26:47         0     0     1\n",
       "11/16/2022 15:27:47         0     1     5"
      ]
     },
     "execution_count": 16,
     "metadata": {},
     "output_type": "execute_result"
    }
   ],
   "source": [
    "# Drop holes\n",
    "df = df_with_holes[df_with_holes['is_hole'] != 1]\n",
    "\n",
    "df.drop(columns='is_hole', inplace=True)\n",
    "\n",
    "\n",
    "# Create fake cols of values\n",
    "df[\"tm_1\"] = np.random.randint(0, 10, size=len(df))\n",
    "df[\"tm_2\"] = np.random.randint(0, 10, size=len(df))\n",
    "\n",
    "df.head(2)"
   ]
  },
  {
   "cell_type": "code",
   "execution_count": 17,
   "id": "e3b5258b",
   "metadata": {},
   "outputs": [
    {
     "data": {
      "text/plain": [
       "[<matplotlib.lines.Line2D at 0x7f452efb8a60>]"
      ]
     },
     "execution_count": 17,
     "metadata": {},
     "output_type": "execute_result"
    },
    {
     "data": {
      "image/png": "[encoded data removed]",
      "text/plain": [
       "<Figure size 432x288 with 1 Axes>"
      ]
     },
     "metadata": {
      "needs_background": "light"
     },
     "output_type": "display_data"
    }
   ],
   "source": [
    "plt.plot(df.tm_1)"
   ]
  },
  {
   "cell_type": "code",
   "execution_count": 18,
   "id": "af2492b2",
   "metadata": {},
   "outputs": [
    {
     "data": {
      "text/plain": [
       "[<matplotlib.lines.Line2D at 0x7f452f39b0a0>]"
      ]
     },
     "execution_count": 18,
     "metadata": {},
     "output_type": "execute_result"
    },
    {
     "data": {
      "image/png": "[encoded data removed]",
      "text/plain": [
       "<Figure size 432x288 with 1 Axes>"
      ]
     },
     "metadata": {
      "needs_background": "light"
     },
     "output_type": "display_data"
    }
   ],
   "source": [
    "plt.plot(df.tm_2)"
   ]
  },
  {
   "cell_type": "code",
   "execution_count": 19,
   "id": "f1fe4ff6",
   "metadata": {},
   "outputs": [],
   "source": [
    "df = df.reset_index()"
   ]
  },
  {
   "cell_type": "markdown",
   "id": "1246392a",
   "metadata": {},
   "source": [
    "**Create shifts**\n",
    "\n",
    "* Choose one orbit\n",
    "* plus 200%"
   ]
  },
  {
   "cell_type": "code",
   "execution_count": 20,
   "id": "568010bb",
   "metadata": {},
   "outputs": [
    {
     "data": {
      "text/html": [
       "<div>\n",
       "<style scoped>\n",
       "    .dataframe tbody tr th:only-of-type {\n",
       "        vertical-align: middle;\n",
       "    }\n",
       "\n",
       "    .dataframe tbody tr th {\n",
       "        vertical-align: top;\n",
       "    }\n",
       "\n",
       "    .dataframe thead th {\n",
       "        text-align: right;\n",
       "    }\n",
       "</style>\n",
       "<table border=\"1\" class=\"dataframe\">\n",
       "  <thead>\n",
       "    <tr style=\"text-align: right;\">\n",
       "      <th></th>\n",
       "      <th>time</th>\n",
       "      <th>orbit_id</th>\n",
       "      <th>tm_1</th>\n",
       "      <th>tm_2</th>\n",
       "    </tr>\n",
       "  </thead>\n",
       "  <tbody>\n",
       "    <tr>\n",
       "      <th>0</th>\n",
       "      <td>11/16/2022 15:26:47</td>\n",
       "      <td>0</td>\n",
       "      <td>0</td>\n",
       "      <td>1</td>\n",
       "    </tr>\n",
       "    <tr>\n",
       "      <th>1</th>\n",
       "      <td>11/16/2022 15:27:47</td>\n",
       "      <td>0</td>\n",
       "      <td>1</td>\n",
       "      <td>5</td>\n",
       "    </tr>\n",
       "    <tr>\n",
       "      <th>2</th>\n",
       "      <td>11/16/2022 15:28:47</td>\n",
       "      <td>0</td>\n",
       "      <td>6</td>\n",
       "      <td>2</td>\n",
       "    </tr>\n",
       "    <tr>\n",
       "      <th>3</th>\n",
       "      <td>11/16/2022 15:29:47</td>\n",
       "      <td>0</td>\n",
       "      <td>0</td>\n",
       "      <td>3</td>\n",
       "    </tr>\n",
       "    <tr>\n",
       "      <th>4</th>\n",
       "      <td>11/16/2022 15:30:47</td>\n",
       "      <td>0</td>\n",
       "      <td>1</td>\n",
       "      <td>2</td>\n",
       "    </tr>\n",
       "    <tr>\n",
       "      <th>...</th>\n",
       "      <td>...</td>\n",
       "      <td>...</td>\n",
       "      <td>...</td>\n",
       "      <td>...</td>\n",
       "    </tr>\n",
       "    <tr>\n",
       "      <th>1019</th>\n",
       "      <td>11/17/2022 15:22:47</td>\n",
       "      <td>9</td>\n",
       "      <td>4</td>\n",
       "      <td>6</td>\n",
       "    </tr>\n",
       "    <tr>\n",
       "      <th>1020</th>\n",
       "      <td>11/17/2022 15:23:47</td>\n",
       "      <td>9</td>\n",
       "      <td>1</td>\n",
       "      <td>5</td>\n",
       "    </tr>\n",
       "    <tr>\n",
       "      <th>1021</th>\n",
       "      <td>11/17/2022 15:24:47</td>\n",
       "      <td>9</td>\n",
       "      <td>2</td>\n",
       "      <td>7</td>\n",
       "    </tr>\n",
       "    <tr>\n",
       "      <th>1022</th>\n",
       "      <td>11/17/2022 15:25:47</td>\n",
       "      <td>9</td>\n",
       "      <td>9</td>\n",
       "      <td>1</td>\n",
       "    </tr>\n",
       "    <tr>\n",
       "      <th>1023</th>\n",
       "      <td>11/17/2022 15:26:47</td>\n",
       "      <td>9</td>\n",
       "      <td>3</td>\n",
       "      <td>3</td>\n",
       "    </tr>\n",
       "  </tbody>\n",
       "</table>\n",
       "<p>1024 rows × 4 columns</p>\n",
       "</div>"
      ],
      "text/plain": [
       "                     time  orbit_id  tm_1  tm_2\n",
       "0     11/16/2022 15:26:47         0     0     1\n",
       "1     11/16/2022 15:27:47         0     1     5\n",
       "2     11/16/2022 15:28:47         0     6     2\n",
       "3     11/16/2022 15:29:47         0     0     3\n",
       "4     11/16/2022 15:30:47         0     1     2\n",
       "...                   ...       ...   ...   ...\n",
       "1019  11/17/2022 15:22:47         9     4     6\n",
       "1020  11/17/2022 15:23:47         9     1     5\n",
       "1021  11/17/2022 15:24:47         9     2     7\n",
       "1022  11/17/2022 15:25:47         9     9     1\n",
       "1023  11/17/2022 15:26:47         9     3     3\n",
       "\n",
       "[1024 rows x 4 columns]"
      ]
     },
     "execution_count": 20,
     "metadata": {},
     "output_type": "execute_result"
    }
   ],
   "source": [
    "df"
   ]
  },
  {
   "cell_type": "code",
   "execution_count": 23,
   "id": "a31aab44-35ea-4ba0-917d-9618d2aaef95",
   "metadata": {},
   "outputs": [],
   "source": [
    "orbit_to_shift = 2"
   ]
  },
  {
   "cell_type": "code",
   "execution_count": 24,
   "id": "aa60bc90",
   "metadata": {},
   "outputs": [],
   "source": [
    "# 200% shift \n",
    "new_value = df[df.orbit_id == orbit_to_shift]['tm_2'] * 2\n",
    "df.loc[df.orbit_id == 2, 'tm_2'] = new_value"
   ]
  },
  {
   "cell_type": "markdown",
   "id": "31a580ba",
   "metadata": {},
   "source": [
    "**See result**"
   ]
  },
  {
   "cell_type": "code",
   "execution_count": 25,
   "id": "26dd6789",
   "metadata": {},
   "outputs": [
    {
     "data": {
      "image/png": "[encoded data removed]",
      "text/plain": [
       "<Figure size 432x288 with 1 Axes>"
      ]
     },
     "metadata": {
      "needs_background": "light"
     },
     "output_type": "display_data"
    }
   ],
   "source": [
    "plt.plot(df.time, df.tm_1)\n",
    "\n",
    "# One red vertical line per orbit\n",
    "for k in df_time.reset_index().groupby('orbit_id').first()[\"time\"]:\n",
    "    plt.axvline(k, color='r')"
   ]
  },
  {
   "cell_type": "code",
   "execution_count": 26,
   "id": "865362f8-028d-4a96-ae2a-f911e07f9065",
   "metadata": {},
   "outputs": [
    {
     "data": {
      "image/png": "[encoded data removed]",
      "text/plain": [
       "<Figure size 432x288 with 1 Axes>"
      ]
     },
     "metadata": {
      "needs_background": "light"
     },
     "output_type": "display_data"
    }
   ],
   "source": [
    "plt.plot(df.time, df.tm_2)\n",
    "\n",
    "# One red vertical line per orbit\n",
    "for k in df_time.reset_index().groupby('orbit_id').first()[\"time\"]:\n",
    "    plt.axvline(k, color='r')   "
   ]
  },
  {
   "cell_type": "code",
   "execution_count": 27,
   "id": "c8b324de-9aad-44a1-a7b1-c3e58b563b7a",
   "metadata": {},
   "outputs": [
    {
     "data": {
      "text/html": [
       "<div>\n",
       "<style scoped>\n",
       "    .dataframe tbody tr th:only-of-type {\n",
       "        vertical-align: middle;\n",
       "    }\n",
       "\n",
       "    .dataframe tbody tr th {\n",
       "        vertical-align: top;\n",
       "    }\n",
       "\n",
       "    .dataframe thead th {\n",
       "        text-align: right;\n",
       "    }\n",
       "</style>\n",
       "<table border=\"1\" class=\"dataframe\">\n",
       "  <thead>\n",
       "    <tr style=\"text-align: right;\">\n",
       "      <th></th>\n",
       "      <th>tm_1</th>\n",
       "      <th>tm_2</th>\n",
       "    </tr>\n",
       "    <tr>\n",
       "      <th>orbit_id</th>\n",
       "      <th></th>\n",
       "      <th></th>\n",
       "    </tr>\n",
       "  </thead>\n",
       "  <tbody>\n",
       "    <tr>\n",
       "      <th>0</th>\n",
       "      <td>3.657895</td>\n",
       "      <td>4.289474</td>\n",
       "    </tr>\n",
       "    <tr>\n",
       "      <th>1</th>\n",
       "      <td>4.259843</td>\n",
       "      <td>4.559055</td>\n",
       "    </tr>\n",
       "    <tr>\n",
       "      <th>2</th>\n",
       "      <td>4.131944</td>\n",
       "      <td>9.750000</td>\n",
       "    </tr>\n",
       "    <tr>\n",
       "      <th>3</th>\n",
       "      <td>4.096386</td>\n",
       "      <td>4.361446</td>\n",
       "    </tr>\n",
       "    <tr>\n",
       "      <th>4</th>\n",
       "      <td>4.648438</td>\n",
       "      <td>4.437500</td>\n",
       "    </tr>\n",
       "    <tr>\n",
       "      <th>5</th>\n",
       "      <td>4.444444</td>\n",
       "      <td>4.597222</td>\n",
       "    </tr>\n",
       "    <tr>\n",
       "      <th>6</th>\n",
       "      <td>4.347222</td>\n",
       "      <td>4.680556</td>\n",
       "    </tr>\n",
       "    <tr>\n",
       "      <th>7</th>\n",
       "      <td>4.783582</td>\n",
       "      <td>4.686567</td>\n",
       "    </tr>\n",
       "    <tr>\n",
       "      <th>8</th>\n",
       "      <td>4.619048</td>\n",
       "      <td>4.119048</td>\n",
       "    </tr>\n",
       "    <tr>\n",
       "      <th>9</th>\n",
       "      <td>3.900000</td>\n",
       "      <td>3.875000</td>\n",
       "    </tr>\n",
       "  </tbody>\n",
       "</table>\n",
       "</div>"
      ],
      "text/plain": [
       "              tm_1      tm_2\n",
       "orbit_id                    \n",
       "0         3.657895  4.289474\n",
       "1         4.259843  4.559055\n",
       "2         4.131944  9.750000\n",
       "3         4.096386  4.361446\n",
       "4         4.648438  4.437500\n",
       "5         4.444444  4.597222\n",
       "6         4.347222  4.680556\n",
       "7         4.783582  4.686567\n",
       "8         4.619048  4.119048\n",
       "9         3.900000  3.875000"
      ]
     },
     "execution_count": 27,
     "metadata": {},
     "output_type": "execute_result"
    }
   ],
   "source": [
    "df.groupby(\"orbit_id\").mean()"
   ]
  },
  {
   "cell_type": "markdown",
   "id": "36728bca",
   "metadata": {},
   "source": [
    "**Artificially create spikes**\n",
    "\n",
    "At random loc"
   ]
  },
  {
   "cell_type": "code",
   "execution_count": 28,
   "id": "c6c74cd7",
   "metadata": {},
   "outputs": [
    {
     "name": "stdout",
     "output_type": "stream",
     "text": [
      "TM: tm_1, 1 spikes at:                     time  orbit_id    tm_1  tm_2\n",
      "235  11/16/2022 21:25:02         2  100000    12\n",
      "TM: tm_2, consecutive spikes at:                     time  orbit_id  tm_1    tm_2\n",
      "908  11/17/2022 10:05:33         7     4  100000\n",
      "909  11/17/2022 10:06:33         7     2  100000\n"
     ]
    }
   ],
   "source": [
    "np.random.seed(SEED)\n",
    "nb_spikes=1\n",
    "spikes_values = 10e4  # all the same value (easier to generate)\n",
    "\n",
    "# Determine (randomly) if first TM shall have consecutive spikes or not\n",
    "is_consecutive = np.random.choice([True, False])  \n",
    "\n",
    "for tm in [\"tm_1\", \"tm_2\"]:\n",
    "\n",
    "    # If consecutive:...\n",
    "    if is_consecutive:\n",
    "        # Generate the position of the first oultier (the second one shall be at position+1)\n",
    "        spike_index = np.random.randint(0, len(df) -1)\n",
    "        \n",
    "        spike_position = df.iloc[[spike_index, spike_index+1]].index.values\n",
    "        \n",
    "        df.loc[spike_position, tm] = spikes_values \n",
    "        \n",
    "        print(f\"TM: {tm}, consecutive spikes at: {df[df[tm] > 10e3]}\")\n",
    "    else:\n",
    "        # Generate just one spike\n",
    "        spike_index = np.random.randint(0, len(df) -1)\n",
    "        \n",
    "        spike_position = df.iloc[[spike_index]].index.values\n",
    "        \n",
    "        df.loc[spike_position, tm] = spikes_values \n",
    "        \n",
    "        print(f\"TM: {tm}, 1 spikes at: {df[df[tm] > 10e3]}\")\n",
    "        \n",
    "    # Next TM=> generate the contrary situation\n",
    "    is_consecutive = not is_consecutive\n"
   ]
  },
  {
   "cell_type": "code",
   "execution_count": 29,
   "id": "e76cc00c",
   "metadata": {},
   "outputs": [
    {
     "data": {
      "text/plain": [
       "[<matplotlib.lines.Line2D at 0x7f452f357520>]"
      ]
     },
     "execution_count": 29,
     "metadata": {},
     "output_type": "execute_result"
    },
    {
     "data": {
      "image/png": "[encoded data removed]",
      "text/plain": [
       "<Figure size 432x288 with 1 Axes>"
      ]
     },
     "metadata": {
      "needs_background": "light"
     },
     "output_type": "display_data"
    }
   ],
   "source": [
    "plt.plot(df.time, df.tm_1)"
   ]
  },
  {
   "cell_type": "code",
   "execution_count": 30,
   "id": "e7433e60",
   "metadata": {},
   "outputs": [
    {
     "data": {
      "text/plain": [
       "[<matplotlib.lines.Line2D at 0x7f45320e1fd0>]"
      ]
     },
     "execution_count": 30,
     "metadata": {},
     "output_type": "execute_result"
    },
    {
     "data": {
      "image/png": "[encoded data removed]",
      "text/plain": [
       "<Figure size 432x288 with 1 Axes>"
      ]
     },
     "metadata": {
      "needs_background": "light"
     },
     "output_type": "display_data"
    }
   ],
   "source": [
    "plt.plot(df.time, df.tm_2)"
   ]
  },
  {
   "cell_type": "markdown",
   "id": "1e226200",
   "metadata": {},
   "source": [
    "**Write result in a csv**"
   ]
  },
  {
   "cell_type": "code",
   "execution_count": 34,
   "id": "e8fe8106",
   "metadata": {},
   "outputs": [],
   "source": [
    "df.to_csv(\"data/data.csv\", index=False)"
   ]
  },
  {
   "cell_type": "code",
   "execution_count": 35,
   "id": "cc845b56",
   "metadata": {},
   "outputs": [
    {
     "data": {
      "text/html": [
       "<div>\n",
       "<style scoped>\n",
       "    .dataframe tbody tr th:only-of-type {\n",
       "        vertical-align: middle;\n",
       "    }\n",
       "\n",
       "    .dataframe tbody tr th {\n",
       "        vertical-align: top;\n",
       "    }\n",
       "\n",
       "    .dataframe thead th {\n",
       "        text-align: right;\n",
       "    }\n",
       "</style>\n",
       "<table border=\"1\" class=\"dataframe\">\n",
       "  <thead>\n",
       "    <tr style=\"text-align: right;\">\n",
       "      <th></th>\n",
       "      <th>time</th>\n",
       "      <th>orbit_id</th>\n",
       "      <th>tm_1</th>\n",
       "      <th>tm_2</th>\n",
       "    </tr>\n",
       "  </thead>\n",
       "  <tbody>\n",
       "    <tr>\n",
       "      <th>0</th>\n",
       "      <td>11/16/2022 15:26:47</td>\n",
       "      <td>0</td>\n",
       "      <td>0</td>\n",
       "      <td>1</td>\n",
       "    </tr>\n",
       "    <tr>\n",
       "      <th>1</th>\n",
       "      <td>11/16/2022 15:27:47</td>\n",
       "      <td>0</td>\n",
       "      <td>1</td>\n",
       "      <td>5</td>\n",
       "    </tr>\n",
       "    <tr>\n",
       "      <th>2</th>\n",
       "      <td>11/16/2022 15:28:47</td>\n",
       "      <td>0</td>\n",
       "      <td>6</td>\n",
       "      <td>2</td>\n",
       "    </tr>\n",
       "    <tr>\n",
       "      <th>3</th>\n",
       "      <td>11/16/2022 15:29:47</td>\n",
       "      <td>0</td>\n",
       "      <td>0</td>\n",
       "      <td>3</td>\n",
       "    </tr>\n",
       "    <tr>\n",
       "      <th>4</th>\n",
       "      <td>11/16/2022 15:30:47</td>\n",
       "      <td>0</td>\n",
       "      <td>1</td>\n",
       "      <td>2</td>\n",
       "    </tr>\n",
       "  </tbody>\n",
       "</table>\n",
       "</div>"
      ],
      "text/plain": [
       "                  time  orbit_id  tm_1  tm_2\n",
       "0  11/16/2022 15:26:47         0     0     1\n",
       "1  11/16/2022 15:27:47         0     1     5\n",
       "2  11/16/2022 15:28:47         0     6     2\n",
       "3  11/16/2022 15:29:47         0     0     3\n",
       "4  11/16/2022 15:30:47         0     1     2"
      ]
     },
     "execution_count": 35,
     "metadata": {},
     "output_type": "execute_result"
    }
   ],
   "source": [
    "pd.read_csv(\"data/data.csv\").head()"
   ]
  }
 ],
 "metadata": {
  "kernelspec": {
   "display_name": "Python 3 (ipykernel)",
   "language": "python",
   "name": "python3"
  },
  "language_info": {
   "codemirror_mode": {
    "name": "ipython",
    "version": 3
   },
   "file_extension": ".py",
   "mimetype": "text/x-python",
   "name": "python",
   "nbconvert_exporter": "python",
   "pygments_lexer": "ipython3",
   "version": "3.8.11"
  }
 },
 "nbformat": 4,
 "nbformat_minor": 5
}
